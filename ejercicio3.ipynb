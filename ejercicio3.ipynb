{
 "cells": [
  {
   "cell_type": "code",
   "execution_count": 23,
   "metadata": {},
   "outputs": [],
   "source": [
    "import random\n",
    "tamano_poblacion = 100\n",
    "numero_genes = 5\n",
    "probabilidad_mutacion = 0.5\n"
   ]
  },
  {
   "cell_type": "code",
   "execution_count": 24,
   "metadata": {},
   "outputs": [],
   "source": [
    "def evaluar_aptitud(individuo):\n",
    "    fitnes_score = 0\n",
    "    for i in range(7):\n",
    "        fitnes_score = fitnes_score + abs(int(individuo[i]) - int(individuo[i+1])) # calculamos la suma de las distancias entre dígitos adyacentes\n",
    "    return fitnes_score"
   ]
  },
  {
   "cell_type": "code",
   "execution_count": 25,
   "metadata": {},
   "outputs": [],
   "source": [
    "# genera claves entre 1 y 9\n",
    "def generar_poblacion(tamano_poblacion):\n",
    "    poblacion = []\n",
    "    for i in range(tamano_poblacion):\n",
    "        individuo = ''.join([str(random.randint(1, 9)) for _ in range(9)]) # generar una cadena de 9 dígitos aleatorios\n",
    "        poblacion.append(individuo)\n",
    "    return poblacion\n",
    "    \n",
    "def seleccionar_padres(poblacion):\n",
    "    # seleccionamos 2 individuos aleatorios de la población\n",
    "    posicion1 = random.randint(0, len(poblacion)-1)\n",
    "    posicion2 = random.randint(0, len(poblacion)-1)\n",
    "    padre1 = poblacion[posicion1]\n",
    "    padre2 = poblacion[posicion2]\n",
    "    # evaluamos la aptitud de ambos individuos \n",
    "    aptitud1 = evaluar_aptitud(padre1)\n",
    "    aptitud2 = evaluar_aptitud(padre2)\n",
    "    # print(aptitud1)\n",
    "    # print(aptitud2)\n",
    "    if aptitud1 > aptitud2: # retorna el que tiene mayor diferencia\n",
    "        return padre1\n",
    "    else:\n",
    "        return padre2\n",
    "    \n",
    "    # aptitud = 0\n",
    "    # padre = []\n",
    "    # for i in range(tamano_poblacion-1):\n",
    "    #     nueva_aptitud = evaluar_aptitud(poblacion[i])\n",
    "    #     if (nueva_aptitud > aptitud): \n",
    "    #         aptitud = nueva_aptitud\n",
    "    #         padre = poblacion[i]\n",
    "    \n",
    "    # return padre\n",
    "    "
   ]
  },
  {
   "cell_type": "code",
   "execution_count": 26,
   "metadata": {},
   "outputs": [],
   "source": [
    "def cruzar_padres(padre1, padre2):\n",
    "    # elegimos un punto de cruce aleatorio\n",
    "    punto_cruce = random.randint(1, 7) # se elije 1 y 7 para asegurar que siempre haya combinaciones como la logitud es 0 y 8\n",
    "    # punto_cruce = 4\n",
    "    # print(padre1, punto_cruce, padre1[:punto_cruce], padre1[:punto_cruce] + padre2[punto_cruce:])\n",
    "    # combinamos las partes de los padres antes y después del punto de cruce\n",
    "    hijo1 = padre1[:punto_cruce] + padre2[punto_cruce:] # obtiene la subcadena y combina con la otra cadena del padre\n",
    "    hijo2 = padre2[:punto_cruce] + padre1[punto_cruce:]\n",
    "    # retornamos los 2 hijos generados\n",
    "    return hijo1, hijo2\n",
    "\n"
   ]
  },
  {
   "cell_type": "code",
   "execution_count": 27,
   "metadata": {},
   "outputs": [],
   "source": [
    "def aplicar_mutacion(individuo):\n",
    "    # convertimos el individuo a lista para poder modificarlo\n",
    "    lista_individuo = list(individuo)\n",
    "    for i in range(9): # recorremos cada dígito del individuo\n",
    "        if random.random() < probabilidad_mutacion: # generamos un número aleatorio para determinar si se realiza la mutación \n",
    "            # para generar un digito diferente al actual\n",
    "            numeros = ['1','2','3','4','5','6','7','8','9'] # tenemos un vector con los numeros         \n",
    "            while True: # obtenemos un numero random\n",
    "                nuevo_digito = numeros[random.randint(0, len(numeros)-1)] # generamos un aleatorio para obtener su posicion\n",
    "                if(nuevo_digito != lista_individuo[i]): break\n",
    "\n",
    "            # nuevo_digito = random.choice([x for x in '123456789' if x != lista_individuo[i]])\n",
    "            # reemplazamos el dígito actual por el nuevo dígito\n",
    "            lista_individuo[i] = nuevo_digito\n",
    "    # convertimos la lista de nuevo a cadena y retornamos el individuo mutado\n",
    "    return ''.join(lista_individuo)\n"
   ]
  },
  {
   "cell_type": "code",
   "execution_count": 28,
   "metadata": {},
   "outputs": [],
   "source": [
    "# función para evolucionar una los genes\n",
    "def evolucionar_genes(poblacion):\n",
    "    # seleccionamos los padres para generar los nuevos individuos\n",
    "    nuevos_individuos = []\n",
    "    for i in range(tamano_poblacion):\n",
    "        padre1 = seleccionar_padres(poblacion)\n",
    "        padre2 = seleccionar_padres(poblacion)\n",
    "        # realizamos el cruce entre los 2 padres para generar 2 hijos\n",
    "        hijo1, hijo2 = cruzar_padres(padre1, padre2)\n",
    "        # aplicamos mutaciones a los 2 hijos\n",
    "        hijo1_mutado = aplicar_mutacion(hijo1)\n",
    "        hijo2_mutado = aplicar_mutacion(hijo2)\n",
    "        # agregamos los 2 hijos mutados a la lista de nuevos individuos\n",
    "        nuevos_individuos.append(hijo1_mutado)\n",
    "        nuevos_individuos.append(hijo2_mutado)"
   ]
  },
  {
   "cell_type": "code",
   "execution_count": 29,
   "metadata": {},
   "outputs": [],
   "source": [
    "# función para evolucionar una los genes\n",
    "def evolucionar_genes(poblacion):\n",
    "    # seleccionamos los padres para generar los nuevos individuos\n",
    "    nuevos_individuos = []\n",
    "    for i in range(tamano_poblacion):\n",
    "        padre1 = seleccionar_padres(poblacion)\n",
    "        padre2 = seleccionar_padres(poblacion)\n",
    "        # realizamos el cruce entre los 2 padres para generar 2 hijos\n",
    "        hijo1, hijo2 = cruzar_padres(padre1, padre2)\n",
    "        # aplicamos mutaciones a los 2 hijos\n",
    "        hijo1_mutado = aplicar_mutacion(hijo1)\n",
    "        hijo2_mutado = aplicar_mutacion(hijo2)\n",
    "        # agregamos los 2 hijos mutados a la lista de nuevos individuos\n",
    "        nuevos_individuos.append(hijo1_mutado)\n",
    "        nuevos_individuos.append(hijo2_mutado)\n",
    "\n",
    "    # evaluamos la aptitud de los nuevos individuos y lo guardamos en un array\n",
    "    aptitudes = [evaluar_aptitud(individuo) for individuo in nuevos_individuos]\n",
    "    # seleccionamos los mejores individuos para formar la siguiente generación\n",
    "    lista_diccionario = []\n",
    "    for i in range(tamano_poblacion):\n",
    "        item = { 'valor': nuevos_individuos[i], 'aptitud': aptitudes[i] } # creamos un objeto\n",
    "        lista_diccionario.append(item)\n",
    "        \n",
    "    lista_diccionario.sort(key=lambda x: x['aptitud']) # ordenamos en base a la aptitud\n",
    "    lista_diccionario = sorted(lista_diccionario, key=lambda x: x['aptitud'], reverse=True) # invierte el arreglo\n",
    "    nueva_lista = [diccionario['valor'] for diccionario in lista_diccionario]\n",
    "    poblacion = [individuo for individuo in nueva_lista][:tamano_poblacion] # obtenemos los primeros 100 de las aptitudes evaluadas\n",
    "    return poblacion\n",
    "    # poblacion = [individuo for _, individuo in sorted(zip(aptitudes, nuevos_individuos), reverse=True)][:tamano_poblacion]\n",
    "    # return poblacion"
   ]
  },
  {
   "cell_type": "code",
   "execution_count": 30,
   "metadata": {},
   "outputs": [
    {
     "name": "stdout",
     "output_type": "stream",
     "text": [
      "['559996912', '452789333', '412983242', '384574487', '313265342', '357142676', '341745831', '138366621', '872589724', '494743252', '969191483', '922492236', '865378775', '658638949', '832553524', '834568159', '966715943', '316332295', '346739929', '767532617', '255948473', '584658135', '496818556', '294492232', '886882842', '461388714', '158819729', '268676187', '982421394', '237339725', '824235434', '659828456', '366628158', '588787599', '148246672', '343311376', '775876817', '136355652', '882247924', '369943755', '428743489', '918359319', '236924115', '368775245', '129557577', '398392962', '173395178', '137664786', '573565925', '183515347', '984445978', '594755286', '286121553', '348694668', '862219211', '944862793', '948889356', '155686116', '214941118', '275983294', '151158276', '546598756', '578286146', '268775983', '869137815', '573854633', '676558187', '654426336', '996391234', '864225774', '811131165', '793813151', '232989932', '887847832', '541793232', '945491865', '416325965', '396564497', '246522777', '864977172', '756343246', '129491423', '746234784', '925523178', '395668362', '417932117', '339241956', '933514619', '745574918', '548763819', '741388414', '479314423', '724563199', '744662461', '739417634', '547847114', '945337628', '775365497', '482517569', '387591899']\n",
      "generacion 1 - contraseña mas apta: 829198634\n",
      "['829198634', '298329169', '918246828', '817145936', '294459189', '914271757', '918355819', '238359389', '319353732', '943964814', '425149388', '381559235', '858632917', '783561947', '941743848', '476328177', '626739352', '512593722', '123159293', '385591772', '959386474', '229894922', '412738617', '529155587', '943523925', '926367944', '371132839', '635948327', '853749831', '423282594', '485265837', '936247966', '429267677', '579595969', '468385133', '925765282', '913112732', '955923517', '448731845', '966391212', '286863989', '381876673', '977359499', '297955134', '461327472', '654976919', '427843176', '669288457', '237382238', '543721632', '769214876', '355718857', '499121366', '797924875', '198698456', '542549711', '466285211', '747862763', '476388215', '426845132', '598938989', '956237729', '554975717', '198523347', '275832112', '576525269', '859455216', '238955976', '384244487', '698335256', '387847561', '234636482', '882337842', '648782347', '786984371', '136964234', '334992132', '653438625', '533793232', '595535798', '823252329', '462217655', '414246691', '287999834', '545568382', '885658425', '941332313', '943222499', '974232417', '476558347', '363324692', '112483212', '468676115', '166577424', '264665458', '687656217', '446878699', '624564441', '996997764', '775576345']\n",
      "generacion 2 - contraseña mas apta: 838159283\n",
      "['838159283', '441949294', '929475925', '592814978', '591746914', '173192383', '381861786', '816739312', '919111769', '319427924', '593628472', '426148281', '712845188', '858494956', '929277644', '293128581', '791338154', '959351394', '228289234', '818325894', '319322847', '814279586', '159153471', '229411844', '925517593', '221958387', '541528256', '817947652', '394119863', '492525634', '634192352', '685591872', '932175276', '816684143', '759218853', '997174977', '738539678', '492459563', '914339838', '986793936', '513459384', '649959911', '848231536', '877238142', '338598492', '385797252', '535289358', '438324169', '769213616', '985711739', '894459137', '673139831', '443562811', '428726899', '381459989', '614136421', '935797614', '829984349', '712374875', '422489388', '475263886', '339894972', '379367632', '933247937', '448959631', '953599924', '443964976', '664934371', '955427515', '429865867', '721276519', '137695681', '221572778', '854125736', '995355947', '668123695', '812535332', '667716477', '886969639', '363485333', '533748557', '512267836', '348877276', '996362138', '555726587', '465966319', '885672362', '785267677', '588751255', '645143122', '657155666', '351553333', '988825675', '326999751', '498766624', '646987444', '412376652', '211243878', '555648792', '642226789']\n",
      "generacion 3 - contraseña mas apta: 729291583\n",
      "['729291583', '429251913', '913959393', '929269413', '949219238', '712928472', '727278284', '942972824', '919597614', '329273173', '692828856', '793728617', '148178372', '369891933', '946949489', '381955983', '471495952', '849579387', '936539253', '131738138', '162846492', '946749272', '529278693', '829775297', '629227974', '925262886', '849213616', '182535378', '221891986', '473219613', '243949694', '729456489', '593825548', '954922897', '577517917', '568823917', '443281624', '313619861', '537628465', '446715935', '149947244', '625411836', '893178515', '651725632', '145914682', '391421144', '269216997', '917999457', '844239489', '362359593', '713555199', '154864179', '438528644', '599431859', '382247957', '894726899', '846265499', '259413671', '471276236', '913399548', '649356619', '436139553', '229526998', '478123295', '799118675', '673327261', '232373841', '225758389', '736539678', '712357935', '784118436', '658211868', '773239472', '496437451', '118346864', '899385477', '456448275', '377155866', '321421854', '787218857', '812335389', '595788233', '439565129', '984735899', '614698851', '598787383', '468861376', '877263121', '432782126', '997878269', '887225736', '421158433', '111164277', '867599642', '443967745', '687459989', '757322437', '313436567', '424449894', '432565898']\n",
      "generacion 4 - contraseña mas apta: 749295929\n",
      "['749295929', '529279277', '813717153', '933928915', '229258183', '759819398', '482827248', '483192382', '919597614', '714719935', '919577928', '519453836', '629373786', '399398157', '917723962', '751749117', '188279713', '859494989', '369251512', '969263853', '329273133', '929225767', '476238173', '371997484', '583947962', '913389389', '573959337', '631578182', '395218693', '271671327', '989731913', '579255185', '817425358', '229469233', '849578373', '977239389', '235219138', '368264619', '661858822', '917785484', '247482677', '927598544', '298426116', '168412393', '555519378', '849779242', '345471855', '529438892', '917998694', '338891383', '424278257', '713239444', '528859448', '895268223', '111914338', '987219957', '973559238', '569216997', '859599549', '518754583', '871116255', '724966866', '542678386', '877912686', '439645989', '132362293', '431211944', '168648654', '375965471', '613866748', '537247657', '423469413', '348835489', '447847952', '113164983', '124286987', '284222413', '356248675', '724653419', '363424637', '896959889', '833265488', '645274662', '253122994', '413535899', '969823324', '575631543', '496756898', '988781548', '466597234', '667626612', '673689861', '434265632', '242275671', '225965659', '658664884', '754664491', '888536999', '655112679', '244424215']\n",
      "generacion 5 - contraseña mas apta: 616519188\n",
      "contraseña generada 616519188\n"
     ]
    }
   ],
   "source": [
    "if __name__ == \"__main__\":\n",
    "    # teclas = [1, 2, 3, 4, 5, 6, 7, 8, 9]\n",
    "    poblacion = poblacion = generar_poblacion(tamano_poblacion)\n",
    "    # evolucionamos la población durante el número de generaciones especificado\n",
    "    for i in range(numero_genes):\n",
    "        print(poblacion)\n",
    "        poblacion = evolucionar_genes(poblacion)\n",
    "        # imprimimos la clave más apta de la generación actual\n",
    "        print('generacion', i+1, '- contraseña mas apta:', poblacion[0])\n",
    "    # retornamos la clave más apta encontrada\n",
    "    print('contraseña generada', poblacion[0])"
   ]
  },
  {
   "cell_type": "code",
   "execution_count": null,
   "metadata": {},
   "outputs": [],
   "source": []
  }
 ],
 "metadata": {
  "kernelspec": {
   "display_name": "Python 3",
   "language": "python",
   "name": "python3"
  },
  "language_info": {
   "codemirror_mode": {
    "name": "ipython",
    "version": 3
   },
   "file_extension": ".py",
   "mimetype": "text/x-python",
   "name": "python",
   "nbconvert_exporter": "python",
   "pygments_lexer": "ipython3",
   "version": "3.11.1"
  },
  "orig_nbformat": 4,
  "vscode": {
   "interpreter": {
    "hash": "01baa359430690a44d79ccaf7f1e10495ae53aaee45980d9272737f0b23a19a2"
   }
  }
 },
 "nbformat": 4,
 "nbformat_minor": 2
}
